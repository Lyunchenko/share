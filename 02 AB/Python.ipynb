{
 "cells": [
  {
   "cell_type": "code",
   "execution_count": 24,
   "id": "wrapped-confusion",
   "metadata": {},
   "outputs": [],
   "source": [
    "import pandas as pd\n",
    "import sqlite3\n",
    "import tqdm"
   ]
  },
  {
   "cell_type": "code",
   "execution_count": 10,
   "id": "dd34ef56",
   "metadata": {},
   "outputs": [],
   "source": [
    "conn = sqlite3.connect('db_ab.db')\n",
    "df = pd.read_sql('select * from cookie_cats', conn)"
   ]
  },
  {
   "cell_type": "code",
   "execution_count": 18,
   "id": "37c5cfea",
   "metadata": {},
   "outputs": [],
   "source": [
    "df_g30 = df[df['version']=='gate_30']\n",
    "df_g40 = df[df['version']=='gate_40']"
   ]
  },
  {
   "cell_type": "code",
   "execution_count": 42,
   "id": "1c5c1348",
   "metadata": {},
   "outputs": [
    {
     "data": {
      "application/vnd.jupyter.widget-view+json": {
       "model_id": "e0adb22377f748be9b1a3d860e43a993",
       "version_major": 2,
       "version_minor": 0
      },
      "text/plain": [
       "  0%|          | 0/1000 [00:00<?, ?it/s]"
      ]
     },
     "metadata": {},
     "output_type": "display_data"
    }
   ],
   "source": [
    "data_mean = [[0, 'gate_30', df_g30['retention_1'].mean(), df_g30['retention_7'].mean()],\n",
    "             [0, 'gate_40', df_g40['retention_1'].mean(), df_g40['retention_7'].mean()]]\n",
    "for i in tqdm.notebook.tqdm(range(1,1001)):\n",
    "    df_g30_sample=df_g30.sample(frac=1, replace=True)\n",
    "    df_g40_sample=df_g40.sample(frac=1, replace=True)\n",
    "    data_mean.append([i, 'gate_30', df_g30_sample['retention_1'].mean(), df_g30_sample['retention_7'].mean()])\n",
    "    data_mean.append([i, 'gate_40', df_g40_sample['retention_1'].mean(), df_g40_sample['retention_7'].mean()])\n",
    "data_mean = pandas.DataFrame(data_out, columns=['id_sample','gate','retention_1','retention_7'])\n",
    "data_mean.to_sql('ab_result', conn, if_exists='replace', index=False)"
   ]
  },
  {
   "cell_type": "code",
   "execution_count": 36,
   "id": "23c13f4d",
   "metadata": {},
   "outputs": [],
   "source": []
  },
  {
   "cell_type": "code",
   "execution_count": null,
   "id": "be32460e",
   "metadata": {},
   "outputs": [],
   "source": []
  },
  {
   "cell_type": "code",
   "execution_count": null,
   "id": "70c0810f",
   "metadata": {},
   "outputs": [],
   "source": []
  },
  {
   "cell_type": "code",
   "execution_count": null,
   "id": "b21cadc4",
   "metadata": {},
   "outputs": [],
   "source": []
  },
  {
   "cell_type": "code",
   "execution_count": 9,
   "id": "advanced-banks",
   "metadata": {},
   "outputs": [],
   "source": []
  },
  {
   "cell_type": "code",
   "execution_count": null,
   "id": "9e8a36b0",
   "metadata": {},
   "outputs": [],
   "source": []
  }
 ],
 "metadata": {
  "kernelspec": {
   "display_name": "Python 3",
   "language": "python",
   "name": "python3"
  },
  "language_info": {
   "codemirror_mode": {
    "name": "ipython",
    "version": 3
   },
   "file_extension": ".py",
   "mimetype": "text/x-python",
   "name": "python",
   "nbconvert_exporter": "python",
   "pygments_lexer": "ipython3",
   "version": "3.8.8"
  }
 },
 "nbformat": 4,
 "nbformat_minor": 5
}
